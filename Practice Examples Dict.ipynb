{
 "cells": [
  {
   "cell_type": "markdown",
   "metadata": {},
   "source": [
    "Example 1. Manage A To Do List\n",
    ". Create a To Do List To Keeo Track OF Tracks"
   ]
  },
  {
   "cell_type": "code",
   "execution_count": 13,
   "metadata": {},
   "outputs": [
    {
     "name": "stdout",
     "output_type": "stream",
     "text": [
      "Don't forget to pay the utility bills!\n",
      "You have already cleaned the house!\n",
      "To Do list remaining\n",
      "-Buy Groceries\n",
      "-Pay Bills\n",
      "-Schedule Doctor's Appointment\n",
      "-Go to the Gym\n"
     ]
    }
   ],
   "source": [
    "to_do_list = [\"Buy Groceries\", \"Clean the House\", \"Pay Bills\"]\n",
    "## Adding to task\n",
    "to_do_list.append(\"Schedule Doctor's Appointment\")\n",
    "to_do_list.append(\"Go to the Gym\")\n",
    "\n",
    "## Removing from task\n",
    "to_do_list.remove(\"Clean the House\")\n",
    "\n",
    "## Checking if a task is in the list\n",
    "if \"Pay Bills\" in to_do_list:\n",
    "    print(\"Don't forget to pay the utility bills!\")\n",
    "else:\n",
    "    print(\"You have no bills to pay!\")\n",
    "if \"Clean the House\" in to_do_list:\n",
    "    print(\"Don't forget to clean the house!\")\n",
    "else:\n",
    "    print(\"You have already cleaned the house!\")\n",
    "\n",
    "print(\"To Do list remaining\")\n",
    "for task in to_do_list:\n",
    "    print(f\"-{task}\")\n",
    "## Sorting the list"
   ]
  },
  {
   "cell_type": "markdown",
   "metadata": {},
   "source": [
    "Example-2: Organizing Student Grades:"
   ]
  },
  {
   "cell_type": "code",
   "execution_count": 14,
   "metadata": {},
   "outputs": [
    {
     "name": "stdout",
     "output_type": "stream",
     "text": [
      "Average grade:,  88.00\n",
      "Highest grade: 95\n",
      "Lowest grade: 78\n"
     ]
    }
   ],
   "source": [
    "## Organizing the list/student grades\n",
    "grades = [85, 92, 78, 90, 88]\n",
    "\n",
    "## Adding new grade\n",
    "grades.append(95)\n",
    "\n",
    "## Calculating the average grade\n",
    "average_grade = sum(grades) / len(grades)\n",
    "print(f\"Average grade:, {average_grade: .2f}\")\n",
    "\n",
    "## Finding the highest and lowest grades\n",
    "highest_grades = max(grades)\n",
    "lowest_grades = min(grades)\n",
    "print(f\"Highest grade: {highest_grades}\")\n",
    "print(f\"Lowest grade: {lowest_grades}\")\n"
   ]
  },
  {
   "cell_type": "markdown",
   "metadata": {},
   "source": [
    "Example-3: Managing an Inventory"
   ]
  },
  {
   "cell_type": "code",
   "execution_count": null,
   "metadata": {},
   "outputs": [
    {
     "name": "stdout",
     "output_type": "stream",
     "text": [
      "Oranges are in the stock.\n",
      "Inventory List:\n",
      "- Apples\n",
      "- Oranges\n",
      "- Grapes\n",
      "- Mangoes\n",
      "Sorted Inventory List:\n",
      "- Apples\n",
      "- Grapes\n",
      "- Mangoes\n",
      "- Oranges\n",
      "Total number of items in the inventory: 4\n"
     ]
    }
   ],
   "source": [
    "inventory = [\"Apples\", \"Bananas\", \"Oranges\", \"Grapes\"]\n",
    "\n",
    "## Adding new item\n",
    "inventory.append(\"Mangoes\")\n",
    "\n",
    "## Removing an item\n",
    "inventory.remove(\"Bananas\")\n",
    "\n",
    "## Checking if an item is in the stock\n",
    "item = \"Oranges\"\n",
    "if item in inventory:\n",
    "    print(f\"{item} are in the stock.\")\n",
    "else:\n",
    "    print(f\"{item} are not in the stock.\")\n",
    "\n",
    "## printing the inventory\n",
    "print(\"Inventory List:\")\n",
    "for item in inventory:\n",
    "    print(f\"- {item}\")\n",
    "## Sorting the inventory (alphabetically)\n",
    "inventory.sort()\n",
    "print(\"Sorted Inventory List:\")\n",
    "for item in inventory:\n",
    "    print(f\"- {item}\")\n",
    "## Counting the number of items in the inventory\n",
    "item_count = len(inventory)\n",
    "print(f\"Total number of items in the inventory: {item_count}\")\n"
   ]
  },
  {
   "cell_type": "markdown",
   "metadata": {},
   "source": [
    "Example-4: Collecting User Feedback\n",
    ". Use a list to collect and analyze user feedback"
   ]
  },
  {
   "cell_type": "code",
   "execution_count": null,
   "metadata": {},
   "outputs": [
    {
     "name": "stdout",
     "output_type": "stream",
     "text": [
      "Positive Feedback Count: 4\n",
      "User Feedback:\n",
      "- Great service!\n",
      "- Very satisfied\n",
      "- Could be better\n",
      "- Excellent experience\n",
      "- Not happy with the service\n",
      "- Not happy with the service\n"
     ]
    }
   ],
   "source": [
    "## Collecting User feedback\n",
    "feedback = [\"Great service!\", \"Very satisfied\", \"Could be better\", \"Excellent experience\", \"Not happy with the service\"]\n",
    "\n",
    "## Adding new feedback\n",
    "feedback.append(\"Not happy with the service\")\n",
    "\n",
    "## Counting specific feedback\n",
    "positive_feedback_count = sum(1 for comment in feedback if \"great\" in comment.lower() or \"excellent\" in comment.lower())\n",
    "print(f\"Positive Feedback Count: {positive_feedback_count}\")\n",
    "\n",
    "## Printing all feedback\n",
    "print(\"User Feedback:\")\n",
    "for comment in feedback:\n",
    "    print(f\"- {comment}\")"
   ]
  },
  {
   "cell_type": "code",
   "execution_count": 19,
   "metadata": {},
   "outputs": [
    {
     "name": "stdout",
     "output_type": "stream",
     "text": [
      "{'shania': 'Excellent', 'kunal': 'Good', 'pearl': 'Excellent', 'vany': 'Not satisfied'}\n",
      "{'Excellent': 2}\n",
      "{'Good': 1, 'could be better': 1, 'Not satisfied': 1, 'great': 1, 'Excellent': 2}\n",
      "All user feedbacks:\n",
      "- Excellent\n",
      "- Good\n",
      "- Excellent\n",
      "- Not satisfied\n",
      "- could be better\n",
      "- great\n",
      "Positive feedback: 4\n"
     ]
    }
   ],
   "source": [
    "### zip() combines both lists\n",
    "users = ['shania', 'kunal','pearl','vany']\n",
    "feedbacks = ['Excellent','Good','Excellent','Not satisfied','could be better','great']\n",
    "\n",
    "feedback_dict = {user:feedback for user,feedback in zip(users,feedbacks)}\n",
    "print(feedback_dict)\n",
    "\n",
    "\n",
    "# Only count 'Excellent' feedback\n",
    "count_dict = {\"Excellent\": feedbacks.count(\"Excellent\")}\n",
    "print(count_dict)\n",
    "\n",
    "# Counting all the feedback types\n",
    "count_dict1 = {feedback: feedbacks.count(feedback) for feedback in set(feedbacks)}\n",
    "\n",
    "print(count_dict1)\n",
    "\n",
    "## All feedbacks\n",
    "print(\"All user feedbacks:\")\n",
    "for comment in feedbacks:\n",
    "    print(f\"- {comment}\")\n",
    "\n",
    "\n",
    "## counting all positive feedbacks\n",
    "\n",
    "positive_feedback = sum(1 for comment in feedbacks if \"excellent\" in comment.lower() or \"great\" in comment.lower() or \"good\" in comment.lower())\n",
    "print(f\"Positive feedback: {positive_feedback}\")\n",
    "\n",
    "\n",
    "\n",
    "\n"
   ]
  },
  {
   "cell_type": "code",
   "execution_count": null,
   "metadata": {},
   "outputs": [],
   "source": []
  }
 ],
 "metadata": {
  "kernelspec": {
   "display_name": "Python 3",
   "language": "python",
   "name": "python3"
  },
  "language_info": {
   "codemirror_mode": {
    "name": "ipython",
    "version": 3
   },
   "file_extension": ".py",
   "mimetype": "text/x-python",
   "name": "python",
   "nbconvert_exporter": "python",
   "pygments_lexer": "ipython3",
   "version": "3.12.0"
  }
 },
 "nbformat": 4,
 "nbformat_minor": 2
}
