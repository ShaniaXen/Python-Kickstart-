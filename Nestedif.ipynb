{
 "cells": [
  {
   "cell_type": "code",
   "execution_count": 1,
   "metadata": {},
   "outputs": [
    {
     "name": "stdout",
     "output_type": "stream",
     "text": [
      "The given year is not a leap year: 2025\n"
     ]
    }
   ],
   "source": [
    "## Example 1: Determine if a year is a leap year using nested condition statements\n",
    "year = int(input(\"Enter a year:\"))\n",
    "if year%4==0:\n",
    "    if year%100==0:\n",
    "        if year%400==0:\n",
    "            print(\"The given year is a leap  year:\",year)\n",
    "        else:\n",
    "            print(\"The given year is not a leap year:\",year)\n",
    "    else:\n",
    "        print(\"The given year is a leap year:\",year)\n",
    "else:\n",
    "    print(\"The given year is not a leap year:\",year)\n"
   ]
  },
  {
   "cell_type": "code",
   "execution_count": 2,
   "metadata": {},
   "outputs": [
    {
     "name": "stdout",
     "output_type": "stream",
     "text": [
      "2038 is not a leap year\n"
     ]
    }
   ],
   "source": [
    "## Determine if a year is a leap year  using function and nested condition statements\n",
    "def is_leap_year(year):\n",
    "    if year%4==0:\n",
    "        if year%100==0:\n",
    "            if year%400==0:\n",
    "                return True # divisible by 4, 100 and 400\n",
    "            return False # divisible by 4 and 100 but not by 400\n",
    "        return True\n",
    "    return False # not divisible by 4\n",
    "year = int(input(\"Enter a year: \"))\n",
    "if is_leap_year(year):\n",
    "    print(f\"{year} is a leap year\")\n",
    "else:\n",
    "    print(f\"{year} is not a leap year\")"
   ]
  },
  {
   "cell_type": "code",
   "execution_count": null,
   "metadata": {},
   "outputs": [],
   "source": []
  },
  {
   "cell_type": "code",
   "execution_count": null,
   "metadata": {},
   "outputs": [],
   "source": []
  },
  {
   "cell_type": "code",
   "execution_count": null,
   "metadata": {},
   "outputs": [
    {
     "name": "stdout",
     "output_type": "stream",
     "text": [
      "Result: Invalid operation\n"
     ]
    }
   ],
   "source": [
    "##Simple Calculator Program using Nested if statements\n",
    "# Taking user input\n",
    "num1 = float(input(\"Enter first number:\"))\n",
    "num2 = float(input(\"Enter second number:\"))\n",
    "operation = input(\"Enter operation(+,-,*,/):\")\n",
    "# Performing calculation based on user input\n",
    "if operation == '+':\n",
    "    result = num1 + num2\n",
    "elif operation == '-':\n",
    "    result = num1 - num2\n",
    "elif operation =='*':\n",
    "    result = num1 * num2\n",
    "elif operation =='/':\n",
    "    if num2 != 0:\n",
    "        result = num1 /num2\n",
    "    else:\n",
    "        print(\"Error: Division by zero is not allowed.\")\n",
    "else:\n",
    "    result = \"Invalid operation\"  # when wrong input operation is given eg.#,$\n",
    "# Displaying the result\n",
    "print(\"Result:\",result)\n",
    "\n",
    "\n",
    "\n"
   ]
  },
  {
   "cell_type": "code",
   "execution_count": 11,
   "metadata": {},
   "outputs": [
    {
     "name": "stdout",
     "output_type": "stream",
     "text": [
      "Your ticket price is: $25\n"
     ]
    }
   ],
   "source": [
    "## Determine the ticket price based on age and whether the person is a student.\n",
    "## Here given two conditions: age,student\n",
    "age = int(input(\"Enter your age:\"))\n",
    "is_student = input(\"Are you a student(yes/no):\").lower() == \"yes\"\n",
    "if age < 5:\n",
    "    price = \"Free\"\n",
    "elif age <= 12:\n",
    "    price = \"$10\"\n",
    "elif age <=17:\n",
    "    if is_student == \"yes\":\n",
    "        price = \"$12\"\n",
    "    else:\n",
    "        price = \"$15\"\n",
    "elif age <= 64:\n",
    "    if is_student == \"yes\":\n",
    "        price = \"$20\"\n",
    "    else:\n",
    "        price = \"$25\"\n",
    "else:\n",
    "    if is_student == \"yes\":\n",
    "        price = \"$15\"\n",
    "    else:\n",
    "        price = \"$10\"\n",
    "print(f\"Your ticket price is: {price}\")\n"
   ]
  },
  {
   "cell_type": "code",
   "execution_count": 15,
   "metadata": {},
   "outputs": [
    {
     "name": "stdout",
     "output_type": "stream",
     "text": [
      "Ticket price is: Rs.70\n"
     ]
    }
   ],
   "source": [
    "## Determine the ticket price based on age and whether the person is a student.\n",
    "## Here given two conditions: age,student\n",
    "age = int(input(\"Enter your age:\"))\n",
    "student = input(\"Are you a student (yes/no):\")\n",
    "if age<18:\n",
    "    if student.lower() == \"yes\":\n",
    "        print(\"Ticket price is: Rs.50\")\n",
    "    else:\n",
    "        print(\"Ticket price is: Rs.70\")\n",
    "else:\n",
    "    if student.lower() == \"yes\":\n",
    "        print(\"Ticket prce is: Rs.100\")\n",
    "    else:\n",
    "        print(\"Ticket price is: Rs.120\")\n"
   ]
  },
  {
   "cell_type": "code",
   "execution_count": 31,
   "metadata": {},
   "outputs": [
    {
     "name": "stdout",
     "output_type": "stream",
     "text": [
      "Free entry for below 6years old\n"
     ]
    }
   ],
   "source": [
    "age = int(input(\"Enter your age:\"))\n",
    "student = input(\"Are you a student (yes/no):\")\n",
    "if age<6:\n",
    "    print(\"Free entry for below 6 years old\")\n",
    "elif age>=6 and age < 18:\n",
    "        if student.lower() == \"yes\":\n",
    "            print(\"Ticket price is: Rs 50\")\n",
    "        elif student.lower() == \"no\":\n",
    "                print(\"Ticket price is: Rs 80\")\n",
    "        else:\n",
    "                print(\"Invalid input for student status\")\n",
    "\n",
    "elif age>=18 and age<54:\n",
    "    if student .lower() == \"yes\":\n",
    "        print(\"Ticket price is: Rs 100\")\n",
    "    elif student.lower() == \"no\":\n",
    "        print(\"Ticket price is: Rs 120\")\n",
    "    else:\n",
    "        print(\"Invalid input for student status\")\n",
    "else:\n",
    "       print(\"Invalid age entred:\")"
   ]
  },
  {
   "cell_type": "code",
   "execution_count": null,
   "metadata": {},
   "outputs": [],
   "source": []
  },
  {
   "cell_type": "code",
   "execution_count": null,
   "metadata": {},
   "outputs": [],
   "source": []
  }
 ],
 "metadata": {
  "kernelspec": {
   "display_name": "Python 3",
   "language": "python",
   "name": "python3"
  },
  "language_info": {
   "codemirror_mode": {
    "name": "ipython",
    "version": 3
   },
   "file_extension": ".py",
   "mimetype": "text/x-python",
   "name": "python",
   "nbconvert_exporter": "python",
   "pygments_lexer": "ipython3",
   "version": "3.12.0"
  }
 },
 "nbformat": 4,
 "nbformat_minor": 2
}
