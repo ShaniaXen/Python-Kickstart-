{
 "cells": [
  {
   "cell_type": "code",
   "execution_count": 10,
   "metadata": {},
   "outputs": [
    {
     "name": "stdout",
     "output_type": "stream",
     "text": [
      "<class 'list'>\n"
     ]
    }
   ],
   "source": [
    "lst = []\n",
    "print(type(lst))  ## <type 'list'> : empty list"
   ]
  },
  {
   "cell_type": "code",
   "execution_count": 11,
   "metadata": {},
   "outputs": [
    {
     "name": "stdout",
     "output_type": "stream",
     "text": [
      "<class 'list'>\n",
      "['John', 'Jane', 'Jack']\n"
     ]
    }
   ],
   "source": [
    "names = ['John', 'Jane', 'Jack']  # list take homogeneous and heterogeneous data\n",
    "print(type(names))  ## <type 'list'> : list with 3 elements\n",
    "print(names)  ## ['John', 'Jane', 'Jack'] : list with 3 elements"
   ]
  },
  {
   "cell_type": "code",
   "execution_count": 12,
   "metadata": {},
   "outputs": [
    {
     "name": "stdout",
     "output_type": "stream",
     "text": [
      "apple\n",
      "banana\n"
     ]
    }
   ],
   "source": [
    "## Accessing List elements\n",
    "fruits = ['apple', 'banana', 'cherry', 'date']\n",
    "print(fruits[0])  ## apple : first element\n",
    "print(fruits[1])  ## banana : second element"
   ]
  },
  {
   "cell_type": "markdown",
   "metadata": {},
   "source": []
  },
  {
   "cell_type": "code",
   "execution_count": 13,
   "metadata": {},
   "outputs": [
    {
     "name": "stdout",
     "output_type": "stream",
     "text": [
      "cherry\n",
      "date\n",
      "date\n",
      "cherry\n",
      "banana\n"
     ]
    }
   ],
   "source": [
    "print(fruits[2])  ## cherry : third element\n",
    "print(fruits[3])  ## date : fourth element\n",
    "print(fruits[-1])  ## date : last element\n",
    "print(fruits[-2])  ## cherry : second last element\n",
    "print(fruits[-3])  ## banana : third last element"
   ]
  },
  {
   "cell_type": "code",
   "execution_count": 14,
   "metadata": {},
   "outputs": [
    {
     "name": "stdout",
     "output_type": "stream",
     "text": [
      "apple\n",
      "['apple', 'banana', 'cherry']\n",
      "['banana', 'cherry']\n",
      "['banana', 'cherry', 'date']\n",
      "['apple', 'banana', 'cherry']\n"
     ]
    }
   ],
   "source": [
    "print(fruits[-4])  ## apple : fourth last element\n",
    "print(fruits[0:3])  ## ['apple', 'banana', 'cherry'] : first three elements\n",
    "print(fruits[1:3])  ## ['banana', 'cherry'] : second and third elements\n",
    "print(fruits[1:])  ## ['banana', 'cherry', 'date'] : from second to last element\n",
    "print(fruits[:3])  ## ['apple', 'banana', 'cherry'] : first three elements"
   ]
  },
  {
   "cell_type": "code",
   "execution_count": 15,
   "metadata": {},
   "outputs": [
    {
     "name": "stdout",
     "output_type": "stream",
     "text": [
      "['apple', 'cherry']\n",
      "['date', 'cherry', 'banana', 'apple']\n",
      "['banana', 'cherry']\n",
      "['banana', 'cherry']\n"
     ]
    }
   ],
   "source": [
    "print(fruits[::2])  ## ['apple', 'cherry'] : every second element\n",
    "print(fruits[::-1])  ## ['date', 'cherry', 'banana', 'apple'] : reverse order\n",
    "print(fruits[1:3])  ## ['banana', 'cherry'] : second and third elements\n",
    "print(fruits[1:3])  ## ['banana', 'cherry'] : second and third elements"
   ]
  },
  {
   "cell_type": "code",
   "execution_count": 16,
   "metadata": {},
   "outputs": [
    {
     "name": "stdout",
     "output_type": "stream",
     "text": [
      "['apple', 'watermelon', 'cherry', 'date']\n"
     ]
    }
   ],
   "source": [
    "fruits[1] = \"watermelon\"\n",
    "print(fruits)  ## ['apple', 'W', 'a', 't', 'e', 'r', 'm', 'e', 'l', 'o', 'n'] : second element replaced"
   ]
  },
  {
   "cell_type": "code",
   "execution_count": 18,
   "metadata": {},
   "outputs": [],
   "source": [
    "fruits[1:] = \"watermelon\""
   ]
  },
  {
   "cell_type": "code",
   "execution_count": 19,
   "metadata": {},
   "outputs": [
    {
     "data": {
      "text/plain": [
       "['apple', 'w', 'a', 't', 'e', 'r', 'm', 'e', 'l', 'o', 'n']"
      ]
     },
     "execution_count": 19,
     "metadata": {},
     "output_type": "execute_result"
    }
   ],
   "source": [
    "fruits"
   ]
  },
  {
   "cell_type": "code",
   "execution_count": null,
   "metadata": {},
   "outputs": [
    {
     "name": "stdout",
     "output_type": "stream",
     "text": [
      "['apple', 'banana', 'cherry', 'blueberry', 'kiwi', 'mango', 'orange']\n"
     ]
    }
   ],
   "source": [
    "## List Slicing : Applying  different methods to the list\n",
    "fruits= ['apple', 'banana', 'cherry', 'blueberry' , 'kiwi', 'mango']\n",
    "fruits.append(\"orange\")  ## Adding an element to the end of the list\n",
    "print(fruits)  "
   ]
  },
  {
   "cell_type": "code",
   "execution_count": 22,
   "metadata": {},
   "outputs": [
    {
     "name": "stdout",
     "output_type": "stream",
     "text": [
      "['apple', 'banana', 'grape', 'cherry', 'blueberry', 'kiwi', 'mango', 'orange']\n"
     ]
    }
   ],
   "source": [
    "fruits.insert(2, \"grape\")  ## Inserting an element at a specific index\n",
    "print(fruits)  "
   ]
  },
  {
   "cell_type": "code",
   "execution_count": 23,
   "metadata": {},
   "outputs": [
    {
     "name": "stdout",
     "output_type": "stream",
     "text": [
      "['apple', 'grape', 'cherry', 'blueberry', 'kiwi', 'mango', 'orange']\n"
     ]
    }
   ],
   "source": [
    "fruits.remove(\"banana\")  ## Removing an element by value\n",
    "print(fruits)"
   ]
  },
  {
   "cell_type": "code",
   "execution_count": 24,
   "metadata": {},
   "outputs": [
    {
     "name": "stdout",
     "output_type": "stream",
     "text": [
      "['apple', 'grape', 'cherry', 'kiwi', 'mango', 'orange']\n"
     ]
    }
   ],
   "source": [
    "fruits.pop(3)  ## Removing an element by index\n",
    "print(fruits)"
   ]
  },
  {
   "cell_type": "code",
   "execution_count": 25,
   "metadata": {},
   "outputs": [
    {
     "name": "stdout",
     "output_type": "stream",
     "text": [
      "['apple', 'cherry', 'grape', 'kiwi', 'mango', 'orange']\n"
     ]
    }
   ],
   "source": [
    "fruits.sort()  ## Sorting the list in ascending order\n",
    "print(fruits)"
   ]
  },
  {
   "cell_type": "code",
   "execution_count": 26,
   "metadata": {},
   "outputs": [
    {
     "name": "stdout",
     "output_type": "stream",
     "text": [
      "['orange', 'mango', 'kiwi', 'grape', 'cherry', 'apple']\n"
     ]
    }
   ],
   "source": [
    "fruits.reverse()  ## Reversing the order of the list\n",
    "print(fruits)"
   ]
  },
  {
   "cell_type": "code",
   "execution_count": 27,
   "metadata": {},
   "outputs": [
    {
     "name": "stdout",
     "output_type": "stream",
     "text": [
      "['orange', 'mango', 'kiwi', 'grape', 'cherry']\n"
     ]
    }
   ],
   "source": [
    "fruits.pop()  ## Removing the last element\n",
    "print(fruits)"
   ]
  },
  {
   "cell_type": "code",
   "execution_count": null,
   "metadata": {},
   "outputs": [
    {
     "name": "stdout",
     "output_type": "stream",
     "text": [
      "2\n"
     ]
    }
   ],
   "source": [
    "index = fruits.index(\"kiwi\")\n",
    "print(index)  ## Finding the index of an element"
   ]
  },
  {
   "cell_type": "code",
   "execution_count": 3,
   "metadata": {},
   "outputs": [
    {
     "name": "stdout",
     "output_type": "stream",
     "text": [
      "[1, 2, 3, 4, 5]\n",
      "[6, 7, 8, 9, 10]\n",
      "[1, 2, 3, 4, 5]\n",
      "[1, 3, 5, 7, 9]\n",
      "[10, 9, 8, 7, 6, 5, 4, 3, 2, 1]\n",
      "[2, 3]\n"
     ]
    }
   ],
   "source": [
    "## Slicing List\n",
    "numbers = [1,2,3,4,5,6,7,8,9,10]\n",
    "print(numbers[0:5])  ## [1, 2, 3, 4, 5] : first five elements\n",
    "print(numbers[5:])  ## [6, 7, 8, 9, 10] : from sixth to last element\n",
    "print(numbers[:5])  ## [1, 2, 3, 4, 5] : first five elements\n",
    "print(numbers[::2])  ## [1, 3, 5, 7, 9] : every second element\n",
    "print(numbers[::-1])  ## [10, 9, 8, 7, 6, 5, 4, 3, 2, 1] : reverse order\n",
    "print(numbers[1:3])  ## [2, 3] : second and third elements"
   ]
  },
  {
   "cell_type": "code",
   "execution_count": 4,
   "metadata": {},
   "outputs": [
    {
     "data": {
      "text/plain": [
       "[1, 2, 3, 4, 5, 6, 7, 8, 9, 10]"
      ]
     },
     "execution_count": 4,
     "metadata": {},
     "output_type": "execute_result"
    }
   ],
   "source": [
    "numbers[::]  ## [1, 2, 3, 4, 5, 6, 7, 8, 9, 10] : all elements"
   ]
  },
  {
   "cell_type": "code",
   "execution_count": 5,
   "metadata": {},
   "outputs": [
    {
     "data": {
      "text/plain": [
       "[1, 4, 7, 10]"
      ]
     },
     "execution_count": 5,
     "metadata": {},
     "output_type": "execute_result"
    }
   ],
   "source": [
    "numbers[::3]"
   ]
  },
  {
   "cell_type": "code",
   "execution_count": 6,
   "metadata": {},
   "outputs": [
    {
     "name": "stdout",
     "output_type": "stream",
     "text": [
      "apple\n",
      "banana\n",
      "cherry\n",
      "date\n"
     ]
    }
   ],
   "source": [
    "## Iterating over a List\n",
    "fruits = [\"apple\", \"banana\", \"cherry\", \"date\"]\n",
    "for fruit in fruits:\n",
    "    print(fruit)  ## Iterating through each element in the list\n"
   ]
  },
  {
   "cell_type": "code",
   "execution_count": null,
   "metadata": {},
   "outputs": [
    {
     "name": "stdout",
     "output_type": "stream",
     "text": [
      "0 apple\n",
      "1 banana\n",
      "2 cherry\n",
      "3 date\n"
     ]
    }
   ],
   "source": [
    "#Iterating with index using \"enumerate\"\n",
    "for index,fruit in enumerate(fruits):\n",
    "    print(index, fruit)   ## Iterating through each element in the list with index"
   ]
  },
  {
   "cell_type": "code",
   "execution_count": 8,
   "metadata": {},
   "outputs": [
    {
     "name": "stdout",
     "output_type": "stream",
     "text": [
      "0 10\n",
      "1 20\n",
      "2 30\n",
      "3 40\n",
      "4 50\n"
     ]
    }
   ],
   "source": [
    "numbers = [10,20,30,40,50]\n",
    "for index, number in enumerate(numbers):\n",
    "    print(index, number)  ## Iterating through each element in the list with index"
   ]
  },
  {
   "cell_type": "code",
   "execution_count": null,
   "metadata": {},
   "outputs": [
    {
     "name": "stdout",
     "output_type": "stream",
     "text": [
      "[0, 1, 4, 9, 16, 25, 36, 49, 64, 81]\n"
     ]
    }
   ],
   "source": [
    "## List Comprehension\n",
    "lst = []  # Take empty empty list acts as a basket to collect the elements\n",
    "for x in range(10): # Iterate through numbers from 0 to 9\n",
    "    lst.append(x**2)  # Square each number and append drops into the basket\n",
    "print(lst)  # Print the basket after each append\n"
   ]
  },
  {
   "cell_type": "markdown",
   "metadata": {},
   "source": [
    "#### List Comprehension\n",
    "Basic Syntax [ expression for item in iterable]\n",
    "with conditional logic [expression for item in iterable if condition]:\n",
    "List comprehension is a shorter , cleaner way to create a new list from existing one - instead of writing a loop + append combo.\n",
    "Think of it as a shortcut to fill your list.\n",
    "****  Basic Syntax:  [expression for item in iterable]\n",
    "\n",
    "Let's break into baby pieces:\n",
    "\n",
    "PART          MEANING \n",
    "expression:   What you want to do with the item (e.g,square it)\n",
    "item      :   Each individual element you're looping through\n",
    "iterable  :   A list, range, or anything you can loop over\n",
    "\n"
   ]
  },
  {
   "cell_type": "code",
   "execution_count": 21,
   "metadata": {},
   "outputs": [
    {
     "name": "stdout",
     "output_type": "stream",
     "text": [
      "[0, 1, 4, 9, 16, 25, 36, 49, 64, 81]\n"
     ]
    }
   ],
   "source": [
    "## Normal way \n",
    "squares = []\n",
    "for x in range(10):\n",
    "    squares.append(x**2)\n",
    "print(squares)"
   ]
  },
  {
   "cell_type": "code",
   "execution_count": 22,
   "metadata": {},
   "outputs": [
    {
     "name": "stdout",
     "output_type": "stream",
     "text": [
      "[0, 1, 4, 9, 16, 25, 36, 49, 64, 81]\n"
     ]
    }
   ],
   "source": [
    "## List comprehension way:\n",
    "squares = [x**2 for x in range(10)]\n",
    "print(squares)"
   ]
  },
  {
   "cell_type": "markdown",
   "metadata": {},
   "source": [
    "###  Now with Conditional logic:\n",
    "[expression for item in iterable if condition] \n",
    "\n",
    "only we must do it if some condition is met"
   ]
  },
  {
   "cell_type": "code",
   "execution_count": 25,
   "metadata": {},
   "outputs": [
    {
     "name": "stdout",
     "output_type": "stream",
     "text": [
      "[0, 4, 16, 36, 64]\n"
     ]
    }
   ],
   "source": [
    "##List comprehension with condition\n",
    "## square a number if it is even\n",
    "even_squares = [x**2 for x in range(10) if x % 2 == 0] # Loop through numbers from 0 to 9 but only if x is even\n",
    "print(even_squares)"
   ]
  },
  {
   "cell_type": "code",
   "execution_count": 26,
   "metadata": {},
   "outputs": [
    {
     "name": "stdout",
     "output_type": "stream",
     "text": [
      "[-5, 0, 5, 10, 15, 20, 25, 30, 35, 40, 45, 50, 55, 60, 65, 70, 75, 80, 85, 90]\n"
     ]
    }
   ],
   "source": [
    "sub = [x-5 for x in range(100) if x % 5 == 0]\n",
    "print(sub)"
   ]
  },
  {
   "cell_type": "code",
   "execution_count": null,
   "metadata": {},
   "outputs": [
    {
     "name": "stdout",
     "output_type": "stream",
     "text": [
      "[256, 324, 400, 484, 576, 676, 784, 900, 1024, 1156, 1296, 1444, 1600, 1764, 1936, 2116, 2304, 2500]\n"
     ]
    }
   ],
   "source": [
    "## Create a list of squares of even numbers between 1 and 50  but only if the square is greater than 200    \n",
    "## Iterates numbers from 1 to 50 and filtered out even numbers and squares greater than 200\n",
    "squa = [x**2 for x in range(1,51) if x % 2 == 0 and x**2 > 200]\n",
    "print(squa) ## List Comprehension wrapped in a list"
   ]
  },
  {
   "cell_type": "code",
   "execution_count": null,
   "metadata": {},
   "outputs": [],
   "source": []
  },
  {
   "cell_type": "code",
   "execution_count": null,
   "metadata": {},
   "outputs": [],
   "source": []
  }
 ],
 "metadata": {
  "kernelspec": {
   "display_name": "Python 3",
   "language": "python",
   "name": "python3"
  },
  "language_info": {
   "codemirror_mode": {
    "name": "ipython",
    "version": 3
   },
   "file_extension": ".py",
   "mimetype": "text/x-python",
   "name": "python",
   "nbconvert_exporter": "python",
   "pygments_lexer": "ipython3",
   "version": "3.12.0"
  }
 },
 "nbformat": 4,
 "nbformat_minor": 2
}
