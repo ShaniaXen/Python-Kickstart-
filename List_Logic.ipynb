{
 "cells": [
  {
   "cell_type": "code",
   "execution_count": null,
   "metadata": {},
   "outputs": [
    {
     "name": "stdout",
     "output_type": "stream",
     "text": [
      "[0, 1, 4, 9, 16, 25, 36, 49, 64, 81]\n"
     ]
    }
   ],
   "source": [
    "### List Building Methods in python\n",
    "### Traditionalor verbose way of list building using append method\n",
    "# This code demonstrates how to build a list using the append method in Python.\n",
    "lst = []  # Take empty empty list acts as a basket to collect the elements\n",
    "for x in range(10): # Iterate through numbers from 0 to 9\n",
    "    lst.append(x**2)  # Square each number and append drops into the basket\n",
    "print(lst)  # Print the basket after each append\n"
   ]
  },
  {
   "cell_type": "markdown",
   "metadata": {},
   "source": [
    "### List Comprehension(Modern Pythonic Way)\n",
    "Basic Syntax [ expression for item in iterable]\n",
    "with conditional logic [expression for item in iterable if condition]:\n",
    "List comprehension is a shorter , cleaner way to create a new list from existing one - instead of writing a loop + append combo.\n",
    "Think of it as a shortcut to fill your list.\n",
    "****  Basic Syntax:  [expression for item in iterable] \n",
    "Expression,Loop check,condition\n",
    "\n",
    "Let's break into baby pieces:\n",
    "\n",
    "PART          MEANING \n",
    "expression:   What you want to do with the item (e.g,square it)\n",
    "item      :   Each individual element you're looping through\n",
    "iterable  :   A list, range, or anything you can loop over\n"
   ]
  },
  {
   "cell_type": "code",
   "execution_count": null,
   "metadata": {},
   "outputs": [
    {
     "name": "stdout",
     "output_type": "stream",
     "text": [
      "[0, 1, 4, 9, 16, 25, 36, 49, 64, 81]\n"
     ]
    }
   ],
   "source": [
    "## Normal way \n",
    "squares = []\n",
    "for x in range(10):\n",
    "    squares.append(x**2)\n",
    "print(squares)"
   ]
  },
  {
   "cell_type": "code",
   "execution_count": null,
   "metadata": {},
   "outputs": [],
   "source": [
    "## List comprehension way:\n",
    "squares = [x**2 for x in range(10)]\n",
    "print(squares)"
   ]
  },
  {
   "cell_type": "code",
   "execution_count": null,
   "metadata": {},
   "outputs": [
    {
     "name": "stdout",
     "output_type": "stream",
     "text": [
      "[0, 1, 4, 9, 16, 25, 36, 49, 64, 81]\n"
     ]
    }
   ],
   "source": [
    "## List comprehension way:\n",
    "squares = [x**2 for x in range(10)]\n",
    "print(squares)"
   ]
  },
  {
   "cell_type": "markdown",
   "metadata": {},
   "source": [
    "###  Now with Conditional logic:\n",
    "[expression for item in iterable if condition] \n",
    "only we must do it if some condition is met"
   ]
  },
  {
   "cell_type": "code",
   "execution_count": 1,
   "metadata": {},
   "outputs": [
    {
     "name": "stdout",
     "output_type": "stream",
     "text": [
      "[0, 4, 16, 36, 64]\n"
     ]
    }
   ],
   "source": [
    "##List comprehension with condition\n",
    "## square a number if it is even\n",
    "even_squares = [x**2 for x in range(10) if x % 2 == 0] # Loop through numbers from 0 to 9 but only if x is even\n",
    "print(even_squares)"
   ]
  },
  {
   "cell_type": "code",
   "execution_count": 2,
   "metadata": {},
   "outputs": [
    {
     "name": "stdout",
     "output_type": "stream",
     "text": [
      "[-5, 0, 5, 10, 15, 20, 25, 30, 35, 40, 45, 50, 55, 60, 65, 70, 75, 80, 85, 90]\n"
     ]
    }
   ],
   "source": [
    "sub = [x-5 for x in range(100) if x % 5 == 0]\n",
    "print(sub)"
   ]
  },
  {
   "cell_type": "code",
   "execution_count": 3,
   "metadata": {},
   "outputs": [
    {
     "name": "stdout",
     "output_type": "stream",
     "text": [
      "[256, 324, 400, 484, 576, 676, 784, 900, 1024, 1156, 1296, 1444, 1600, 1764, 1936, 2116, 2304, 2500]\n"
     ]
    }
   ],
   "source": [
    "## Create a list of squares of even numbers between 1 and 50  but only if the square is greater than 200    \n",
    "## Iterates numbers from 1 to 50 and filtered out even numbers and squares greater than 200\n",
    "squa = [x**2 for x in range(1,51) if x % 2 == 0 and x**2 > 200]\n",
    "print(squa) ## List Comprehension wrapped in a list"
   ]
  },
  {
   "cell_type": "markdown",
   "metadata": {},
   "source": [
    "### Nested List Comprehension\n",
    "\n",
    "Basic Syntax               [expression for item in iterable]\n",
    "With Condition Logic       [expression for item in iterable if condition]\n",
    "Nested List Comprehension  [expression for item1 in iterable1 for item2 in iterable2]\n",
    "[[expression for inner in inner_loop] for outer in outer_loop]\n"
   ]
  },
  {
   "cell_type": "code",
   "execution_count": 5,
   "metadata": {},
   "outputs": [
    {
     "name": "stdout",
     "output_type": "stream",
     "text": [
      "[['Shelves 1 Books 1', 'Shelves 1 Books 2', 'Shelves 1 Books 3', 'Shelves 2 Books 1', 'Shelves 2 Books 2', 'Shelves 2 Books 3', 'Shelves 3 Books 1', 'Shelves 3 Books 2', 'Shelves 3 Books 3'], ['Shelves 1 Books 1', 'Shelves 1 Books 2', 'Shelves 1 Books 3', 'Shelves 2 Books 1', 'Shelves 2 Books 2', 'Shelves 2 Books 3', 'Shelves 3 Books 1', 'Shelves 3 Books 2', 'Shelves 3 Books 3'], ['Shelves 1 Books 1', 'Shelves 1 Books 2', 'Shelves 1 Books 3', 'Shelves 2 Books 1', 'Shelves 2 Books 2', 'Shelves 2 Books 3', 'Shelves 3 Books 1', 'Shelves 3 Books 2', 'Shelves 3 Books 3']]\n"
     ]
    }
   ],
   "source": [
    "## Traditional Nested Loop\n",
    "## Create a 3x3 matrix using nested loops\n",
    "## This code creates a 3x3 matrix using nested loops and appends the elements to a shelf\n",
    "## The outer loop iterates through the rows, and the inner loop iterates through the columns\n",
    "## The matrix is a list of lists, where each inner list represents a row\n",
    "## The shelf is a temporary list that holds the elements of each row\n",
    "## The final matrix is a list of shelves, where each shelf is a list of books\n",
    "## The matrix is a list of lists, where each inner list represents a row\n",
    "\n",
    "matrix = []  # empty matrix\n",
    "shelf = []  # empty shelf\n",
    "for i in range(1,4):  # 3 shelves\n",
    "    for j in range(1,4):  # 3 books in each shelf\n",
    "        shelf.append(f\"Shelves {i} Books {j}\")  # Append the book to the shelf\n",
    "    matrix.append(shelf)  # Append the shelf to the matrix\n",
    "print(matrix)  # Print the matrix"
   ]
  },
  {
   "cell_type": "code",
   "execution_count": 16,
   "metadata": {},
   "outputs": [
    {
     "name": "stdout",
     "output_type": "stream",
     "text": [
      "[(1, 11), (1, 12), (1, 13), (2, 11), (2, 12), (2, 13), (3, 11), (3, 12), (3, 13)]\n"
     ]
    }
   ],
   "source": [
    "## Nested List Comprehension style\n",
    "## Create a 3x3 matrix using nested list comprehension\n",
    "## This code creates a 3x3 matrix using nested list comprehension\n",
    "## The outer list comprehension iterates through the rows, and the inner list comprehension iterates through the columns\n",
    "## The matrix is a list of lists, where each inner list represents a row\n",
    "## Create a list of tuples from two lists\n",
    "## Iterate through two lists and create a list of tuples\n",
    "nested = [(i,j) for i in range(1,4) for j in range(11,14)]\n",
    "print(nested)  # Print the matrix]\n"
   ]
  },
  {
   "cell_type": "code",
   "execution_count": null,
   "metadata": {},
   "outputs": [
    {
     "name": "stdout",
     "output_type": "stream",
     "text": [
      "[(1, 10), (2, 10), (3, 10), (1, 11), (2, 11), (3, 11), (1, 12), (2, 12), (3, 12), (1, 13), (2, 13), (3, 13), (1, 14), (2, 14), (3, 14), (1, 15), (2, 15), (3, 15), (1, 16), (2, 16), (3, 16), (1, 17), (2, 17), (3, 17), (1, 18), (2, 18), (3, 18), (1, 19), (2, 19), (3, 19), (1, 20), (2, 20), (3, 20), (1, 21), (2, 21), (3, 21), (1, 22), (2, 22), (3, 22), (1, 23), (2, 23), (3, 23), (1, 24), (2, 24), (3, 24), (1, 25), (2, 25), (3, 25), (1, 26), (2, 26), (3, 26), (1, 27), (2, 27), (3, 27), (1, 28), (2, 28), (3, 28), (1, 29), (2, 29), (3, 29), (1, 30), (2, 30), (3, 30), (1, 31), (2, 31), (3, 31), (1, 32), (2, 32), (3, 32), (1, 33), (2, 33), (3, 33), (1, 34), (2, 34), (3, 34), (1, 35), (2, 35), (3, 35), (1, 36), (2, 36), (3, 36), (1, 37), (2, 37), (3, 37), (1, 38), (2, 38), (3, 38), (1, 39), (2, 39), (3, 39)]\n"
     ]
    }
   ],
   "source": [
    "# inner loop / j grouped\n",
    "matrix = [[(i,j) for j in range(10,40) for  i in range(1,4)]]\n",
    "for row in matrix:\n",
    "    print(row)  # Print each row of the matrix"
   ]
  },
  {
   "cell_type": "code",
   "execution_count": null,
   "metadata": {},
   "outputs": [
    {
     "name": "stdout",
     "output_type": "stream",
     "text": [
      "[[1, 'a'], [1, 'b'], [1, 'c'], [1, 'd'], [2, 'a'], [2, 'b'], [2, 'c'], [2, 'd'], [3, 'a'], [3, 'b'], [3, 'c'], [3, 'd'], [4, 'a'], [4, 'b'], [4, 'c'], [4, 'd']]\n"
     ]
    }
   ],
   "source": [
    "## outer loop / i grouped \n",
    "lst1 = [1,2,3,4]\n",
    "lst2 = ['a','b','c','d']\n",
    "pair = [[i,j] for i in lst1 for j in lst2]\n",
    "\n",
    "print(pair)  # Print the list of pairs"
   ]
  },
  {
   "cell_type": "code",
   "execution_count": 20,
   "metadata": {},
   "outputs": [
    {
     "name": "stdout",
     "output_type": "stream",
     "text": [
      "[1, 'a']\n",
      "[1, 'b']\n",
      "[1, 'c']\n",
      "[1, 'd']\n",
      "[2, 'a']\n",
      "[2, 'b']\n",
      "[2, 'c']\n",
      "[2, 'd']\n",
      "[3, 'a']\n",
      "[3, 'b']\n",
      "[3, 'c']\n",
      "[3, 'd']\n",
      "[4, 'a']\n",
      "[4, 'b']\n",
      "[4, 'c']\n",
      "[4, 'd']\n"
     ]
    }
   ],
   "source": [
    "for row in pair:\n",
    "    print(row)  # Print each row of the matrix"
   ]
  },
  {
   "cell_type": "code",
   "execution_count": 22,
   "metadata": {},
   "outputs": [
    {
     "name": "stdout",
     "output_type": "stream",
     "text": [
      "[5, 5, 6, 4, 13]\n"
     ]
    }
   ],
   "source": [
    "#List Comprehention with function calls\n",
    "words = ['hello', 'world', 'python', 'list', 'comprehension']\n",
    "# Create a list of lengths of words in the list\n",
    "word_lengths = [len(word) for word in words]  # Iterate through the words and get the length of each word\n",
    "print(word_lengths)  # Print the list of lengths"
   ]
  },
  {
   "cell_type": "code",
   "execution_count": 32,
   "metadata": {},
   "outputs": [
    {
     "name": "stdout",
     "output_type": "stream",
     "text": [
      "   1 \n",
      "   2 \n",
      "   3 \n",
      "   4 \n",
      "   5 \n",
      "   2 \n",
      "   4 \n",
      "   6 \n",
      "   8 \n",
      "  10 \n",
      "   3 \n",
      "   6 \n",
      "   9 \n",
      "  12 \n",
      "  15 \n",
      "   4 \n",
      "   8 \n",
      "  12 \n",
      "  16 \n",
      "  20 \n",
      "   5 \n",
      "  10 \n",
      "  15 \n",
      "  20 \n",
      "  25 \n"
     ]
    }
   ],
   "source": [
    "##  Build a multiplication table using nested list comprehension\n",
    "table = [[i*j] for i in range(1,6) for j  in range(1,6)]\n",
    "# to display in real matrix format\n",
    "for row in table:\n",
    "    for item in row:\n",
    "        print(f\"{item:4}\", end=' ')\n",
    "    #print(row)\n",
    "    print()  # Print each row of the multiplication table"
   ]
  },
  {
   "cell_type": "code",
   "execution_count": 26,
   "metadata": {},
   "outputs": [
    {
     "name": "stdout",
     "output_type": "stream",
     "text": [
      " 1\n",
      " 2\n",
      " 3\n",
      " 4\n",
      " 5\n",
      " 2\n",
      " 4\n",
      " 6\n",
      " 8\n",
      "10\n",
      " 3\n",
      " 6\n",
      " 9\n",
      "12\n",
      "15\n",
      " 4\n",
      " 8\n",
      "12\n",
      "16\n",
      "20\n",
      " 5\n",
      "10\n",
      "15\n",
      "20\n",
      "25\n"
     ]
    }
   ],
   "source": [
    "##  Build a multiplication table using nested list comprehension\n",
    "table = [[i*j] for j in range(1,6) for i  in range(1,6)]\n",
    "# to display in real matrix format\n",
    "for row in table:\n",
    "        print(\" \".join(str(item).rjust(2) for item in row))  # Print each row of the multiplication table\n",
    "        "
   ]
  },
  {
   "cell_type": "markdown",
   "metadata": {},
   "source": [
    "[[i * j for j in range(1, 6)] for i in range(1, 6)]: builds a 5x5 multiplication table.\n",
    "\n",
    "str(item).rjust(2): makes each number at least 2 spaces wide so they align.\n",
    "\n",
    "\" \".join(...): adds space between the numbers for neat look."
   ]
  },
  {
   "cell_type": "code",
   "execution_count": 27,
   "metadata": {},
   "outputs": [
    {
     "name": "stdout",
     "output_type": "stream",
     "text": [
      "   1   2   3   4\n",
      "   2   4   6   8\n",
      "   3   6   9  12\n"
     ]
    }
   ],
   "source": [
    "# Create the matrix using nested list comprehension\n",
    "matrix = [[i * j for j in range(1, 5)] for i in range(1, 4)]\n",
    "\n",
    "# Print each row in matrix format\n",
    "for row in matrix:\n",
    "    for item in row:\n",
    "        print(f\"{item:4}\", end=\"\")  # 4 spaces for alignment\n",
    "    print()  # Newline after each row\n"
   ]
  },
  {
   "cell_type": "code",
   "execution_count": null,
   "metadata": {},
   "outputs": [],
   "source": []
  }
 ],
 "metadata": {
  "kernelspec": {
   "display_name": "Python 3",
   "language": "python",
   "name": "python3"
  },
  "language_info": {
   "codemirror_mode": {
    "name": "ipython",
    "version": 3
   },
   "file_extension": ".py",
   "mimetype": "text/x-python",
   "name": "python",
   "nbconvert_exporter": "python",
   "pygments_lexer": "ipython3",
   "version": "3.12.0"
  }
 },
 "nbformat": 4,
 "nbformat_minor": 2
}
