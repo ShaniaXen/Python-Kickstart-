{
 "cells": [
  {
   "cell_type": "code",
   "execution_count": 5,
   "metadata": {},
   "outputs": [
    {
     "name": "stdout",
     "output_type": "stream",
     "text": [
      "0\n",
      "1\n",
      "2\n",
      "3\n",
      "4\n"
     ]
    }
   ],
   "source": [
    "# Loop control statements\n",
    "# for loop\n",
    "for i in range(5):\n",
    "    print(i)\n"
   ]
  },
  {
   "cell_type": "code",
   "execution_count": 7,
   "metadata": {},
   "outputs": [
    {
     "name": "stdout",
     "output_type": "stream",
     "text": [
      "1\n",
      "3\n",
      "5\n",
      "7\n",
      "9\n"
     ]
    }
   ],
   "source": [
    "# start,stop,step\n",
    "for i in range(1,10,2):  # increment of 2\n",
    "    print(i)"
   ]
  },
  {
   "cell_type": "code",
   "execution_count": 8,
   "metadata": {},
   "outputs": [
    {
     "name": "stdout",
     "output_type": "stream",
     "text": [
      "10\n",
      "9\n",
      "8\n",
      "7\n",
      "6\n",
      "5\n",
      "4\n",
      "3\n",
      "2\n"
     ]
    }
   ],
   "source": [
    "for i in range(10,1,-1): # decrement of 1\n",
    "    print(i)"
   ]
  },
  {
   "cell_type": "code",
   "execution_count": 9,
   "metadata": {},
   "outputs": [
    {
     "name": "stdout",
     "output_type": "stream",
     "text": [
      "S\n",
      "h\n",
      "a\n",
      "n\n",
      "i\n",
      "a\n",
      " \n",
      "S\n",
      "h\n",
      "a\n",
      "n\n"
     ]
    }
   ],
   "source": [
    "## Strings\n",
    "str = \"Shania Shan\"\n",
    "for i in str:\n",
    "    print(i)"
   ]
  },
  {
   "cell_type": "code",
   "execution_count": 10,
   "metadata": {},
   "outputs": [
    {
     "name": "stdout",
     "output_type": "stream",
     "text": [
      "0\n",
      "1\n",
      "2\n",
      "3\n",
      "4\n"
     ]
    }
   ],
   "source": [
    "## While loop\n",
    "## The while loop executes as long as the condition is true\n",
    "count = 0\n",
    "while count<5:\n",
    "    print(count)\n",
    "    count = count + 1\n",
    "\n",
    "# break statement"
   ]
  },
  {
   "cell_type": "code",
   "execution_count": 11,
   "metadata": {},
   "outputs": [
    {
     "name": "stdout",
     "output_type": "stream",
     "text": [
      "0\n"
     ]
    }
   ],
   "source": [
    "count = 0\n",
    "while count%2 == 0:\n",
    "    print(count)\n",
    "    count = count+1"
   ]
  },
  {
   "cell_type": "code",
   "execution_count": 16,
   "metadata": {},
   "outputs": [
    {
     "name": "stdout",
     "output_type": "stream",
     "text": [
      "0\n",
      "1\n",
      "2\n",
      "3\n",
      "4\n",
      "Breaking out of the loop\n"
     ]
    }
   ],
   "source": [
    "## Loop control statements\n",
    "## break\n",
    "## The break statement is used to exit a loop prematurely\n",
    "for i in range(10):\n",
    "    if i == 5:\n",
    "        print(\"Breaking out of the loop\")\n",
    "        break\n",
    "    print(i)\n"
   ]
  },
  {
   "cell_type": "code",
   "execution_count": 17,
   "metadata": {},
   "outputs": [
    {
     "name": "stdout",
     "output_type": "stream",
     "text": [
      "1\n",
      "3\n",
      "5\n",
      "7\n",
      "9\n"
     ]
    }
   ],
   "source": [
    "## continue\n",
    "## The continue statement is used to skip the current iteration of a loop\n",
    "for i in range(10):\n",
    "    if i%2 == 0:\n",
    "        continue\n",
    "    print(i)  # prints only odd numbers"
   ]
  },
  {
   "cell_type": "code",
   "execution_count": 18,
   "metadata": {},
   "outputs": [
    {
     "name": "stdout",
     "output_type": "stream",
     "text": [
      "h\n",
      "a\n",
      "n\n",
      "i\n",
      "a\n",
      " \n",
      "h\n",
      "a\n",
      "n\n"
     ]
    }
   ],
   "source": [
    "str = \"Shania Shan\"\n",
    "for i in str:\n",
    "    if i == \"S\":\n",
    "        continue\n",
    "    print(i)\n",
    "    "
   ]
  },
  {
   "cell_type": "code",
   "execution_count": 19,
   "metadata": {},
   "outputs": [
    {
     "name": "stdout",
     "output_type": "stream",
     "text": [
      "0\n",
      "1\n",
      "2\n",
      "3\n",
      "4\n"
     ]
    }
   ],
   "source": [
    "## pass\n",
    "## The pass statement is a null operation; it does nothing\n",
    "for i in  range(5):\n",
    "    if i == 3:\n",
    "        pass\n",
    "    print(i)"
   ]
  },
  {
   "cell_type": "code",
   "execution_count": 24,
   "metadata": {},
   "outputs": [
    {
     "name": "stdout",
     "output_type": "stream",
     "text": [
      " i : 0 and j : 0\n",
      " i : 0 and j : 1\n",
      " i : 1 and j : 0\n",
      " i : 1 and j : 1\n",
      " i : 2 and j : 0\n",
      " i : 2 and j : 1\n"
     ]
    }
   ],
   "source": [
    "### Nested loops \n",
    "## A loop inside another loop\n",
    "## 'i' =  shelves , 'j' = Books: oraganize books in 3 shelves each shelf contains 2 books\n",
    "## Shelves are outer loop goes by 0,1,2,so outer loop goes through each shelf one by one.\n",
    "for i in range(3):\n",
    "    for j in range(2):## inside each shelf you place 2 books\n",
    "        ## print the shelf number and book number\n",
    "         print(f\" i : {i} and j : {j}\")"
   ]
  },
  {
   "cell_type": "code",
   "execution_count": 27,
   "metadata": {},
   "outputs": [
    {
     "name": "stdout",
     "output_type": "stream",
     "text": [
      "Placing book 1 on shelf 1\n",
      "Placing book 2 on shelf 1\n",
      "Placing book 1 on shelf 2\n",
      "Placing book 2 on shelf 2\n",
      "Placing book 1 on shelf 3\n",
      "Placing book 2 on shelf 3\n"
     ]
    }
   ],
   "source": [
    "for shelf in range(1,4): # shelves 1,2,3\n",
    "    for book in range(1,3): # books 1,2\n",
    "       # print(f\"Shelf: {shelf} and Book: {book}\")\n",
    "        print(f\"Placing book {book} on shelf {shelf}\")"
   ]
  },
  {
   "cell_type": "code",
   "execution_count": null,
   "metadata": {},
   "outputs": [
    {
     "name": "stdout",
     "output_type": "stream",
     "text": [
      "*\n",
      "**\n",
      "***\n",
      "****\n",
      "*****\n"
     ]
    }
   ],
   "source": [
    "## Right angled Triangle of star\n",
    "rows = 5\n",
    "for i in range(1,rows+1):\n",
    "    for j in range(i):\n",
    "        print(\"*\", end =\"\")\n",
    "    print()"
   ]
  },
  {
   "cell_type": "code",
   "execution_count": null,
   "metadata": {},
   "outputs": [
    {
     "name": "stdout",
     "output_type": "stream",
     "text": [
      "1 \n",
      "1 2 \n",
      "1 2 3 \n",
      "1 2 3 4 \n",
      "1 2 3 4 5 \n"
     ]
    }
   ],
   "source": [
    "## pattern with numbers\n",
    "for i in range(1,6):\n",
    "    for j in range(1,i+1):\n",
    "        print(j, end = \" \")\n",
    "    print()"
   ]
  },
  {
   "cell_type": "code",
   "execution_count": null,
   "metadata": {},
   "outputs": [
    {
     "name": "stdout",
     "output_type": "stream",
     "text": [
      "Total sum is: 1\n",
      "Total sum is: 3\n",
      "Total sum is: 6\n",
      "Total sum is: 10\n",
      "Total sum is: 15\n"
     ]
    }
   ],
   "source": [
    "## Calculate the sum of first N natural numbers using a while and for loop\n",
    "## if N = 5,  I want: 1+2+3+4+5 = 15\n",
    "## Using for loop\n",
    "N = 5\n",
    "sum = 0  # why '0' : initially sum is 0, we start wth zero - empty plate we are filling it\n",
    "#for i in range(5):  # i = 0,1,2,3,4\n",
    "for i in range(1,N+1): # i = 1,2,3,4,5.\n",
    "    sum = sum + i # sum = 0+1 ,1+2, 3+3, 6+4, 10+5: add each number to sum\n",
    "    #print(f\"Sum of first {i} natural numbers is:{sum}\")\n",
    "    print(\"Total sum is:\",sum)"
   ]
  },
  {
   "cell_type": "code",
   "execution_count": null,
   "metadata": {},
   "outputs": [
    {
     "name": "stdout",
     "output_type": "stream",
     "text": [
      "Total sum is: 15\n"
     ]
    }
   ],
   "source": [
    "#sum of first N natural numbers using while loop\n",
    "N = 5\n",
    "i = 1  # Start from 1\n",
    "sum = 0  # Again, we start empty  (with 0)\n",
    "while i <= N:  # While i is less than or equal to N\n",
    "    sum = sum + i  # Add i to sum\n",
    "    i = i + 1  # Increment i by 1 or Go to Next number untill it satisfies the condition\n",
    "    #print(f\"Sum of first {i} natural numbers is:{sum}\")\n",
    "print(\"Total sum is:\",sum)\n"
   ]
  },
  {
   "cell_type": "code",
   "execution_count": 41,
   "metadata": {},
   "outputs": [
    {
     "name": "stdout",
     "output_type": "stream",
     "text": [
      "Sum of first 10 even natural numbers are: 2\n",
      "Sum of first 10 even natural numbers are: 6\n",
      "Sum of first 10 even natural numbers are: 12\n",
      "Sum of first 10 even natural numbers are: 20\n",
      "Sum of first 10 even natural numbers are: 30\n"
     ]
    }
   ],
   "source": [
    "# Sum of Even natural numbers\n",
    "# Using for loop\n",
    "N = 10\n",
    "sum = 0\n",
    "for i in range(1 , N+1):\n",
    "    if i%2 == 0:\n",
    "        sum = sum+i\n",
    "        #print(f\"Sum of first {i} even natural numbers is:{sum}\")\n",
    "       # print(\"First 10 even natural numbers are:\",i)\n",
    "        print(\"Sum of first 10 even natural numbers are:\",sum)\n"
   ]
  },
  {
   "cell_type": "code",
   "execution_count": 1,
   "metadata": {},
   "outputs": [
    {
     "ename": "SyntaxError",
     "evalue": "expected ':' (2229346626.py, line 6)",
     "output_type": "error",
     "traceback": [
      "  \u001b[36mCell\u001b[39m\u001b[36m \u001b[39m\u001b[32mIn[1]\u001b[39m\u001b[32m, line 6\u001b[39m\n\u001b[31m    \u001b[39m\u001b[31mfor i in range\u001b[39m\n                  ^\n\u001b[31mSyntaxError\u001b[39m\u001b[31m:\u001b[39m expected ':'\n"
     ]
    }
   ],
   "source": [
    "## Prime Numbers between 1 and 100: divisible by only 1 and itself\n",
    "## 1 is not prime, 2 is prime, 3 is prime, 4 is not prime, 5 is prime.....\n",
    "## 1. Using for loop\n",
    "for num in range(1,101):  # Loop through numbers frm 1 to 100\n",
    "    if num>1:\n",
    "        for i in range"
   ]
  },
  {
   "cell_type": "code",
   "execution_count": null,
   "metadata": {},
   "outputs": [
    {
     "name": "stdout",
     "output_type": "stream",
     "text": [
      "78 is not a prime number\n"
     ]
    }
   ],
   "source": [
    "## Checking the given number is prime or not\n",
    "num = int(input(\"Enter a number:\"))  # Step 1 take input\n",
    "if num > 1:  # Check if given number is greater than 1 (1,0 and negative numbers are not prime)\n",
    "    for i in range(2,num):  #  2 to num-1 \n",
    "        if num%i == 0:\n",
    "            print(num,\"is not a prime number\")\n",
    "            break\n",
    "        else:\n",
    "            print(num, \"is a prime number\")\n",
    "else:\n",
    "    print(num,\"is not a prime number\")\n"
   ]
  },
  {
   "cell_type": "code",
   "execution_count": null,
   "metadata": {},
   "outputs": [],
   "source": [
    "# Prime number from 1 to 100 in easy method\n",
    "for num in range(1,101):\n",
    "    if num > 1:\n",
    "        for i in range(2,num):\n",
    "            if num%2 == 0:\n",
    "                break\n",
    "        else:\n",
    "            print(num)"
   ]
  },
  {
   "cell_type": "code",
   "execution_count": null,
   "metadata": {},
   "outputs": [
    {
     "name": "stdout",
     "output_type": "stream",
     "text": [
      "2 3 5 7 11 13 17 19 23 29 31 37 41 43 47 53 59 61 67 71 73 79 83 89 97 "
     ]
    }
   ],
   "source": [
    "## checking Prime numbers from 1 to 100\n",
    "for num in range(2, 101): # checking prime numbers from 2 to 100\n",
    "    is_prime = True  # Assume each number is prime at first\n",
    "    # Check if the number is divisible by any number from 2 to sqrt(num)\n",
    "    # If it is, then it's not prime\n",
    "    for i in range(2, int(num**0.5)+1):\n",
    "        if num%i == 0:\n",
    "            is_prime = False\n",
    "            break\n",
    "    if is_prime == True:\n",
    "        print(num, end = \" \")\n"
   ]
  },
  {
   "cell_type": "code",
   "execution_count": 6,
   "metadata": {},
   "outputs": [
    {
     "name": "stdout",
     "output_type": "stream",
     "text": [
      "2 3 5 7 11 13 17 19 23 29 31 37 41 43 47 53 59 61 67 71 73 79 83 89 97 "
     ]
    }
   ],
   "source": [
    "import math\n",
    "for num in range(2, 100):  # Loop through numbers from 2 to 100\n",
    "    is_prime = True\n",
    "    for i in range(2, int(math.sqrt(num))+1):\n",
    "        if num%i == 0:\n",
    "            is_prime = False\n",
    "            break  # no need to check further\n",
    "    if is_prime:\n",
    "        print(num, end = \" \")  # print all prime numbers in a single line\n"
   ]
  },
  {
   "cell_type": "code",
   "execution_count": null,
   "metadata": {},
   "outputs": [],
   "source": []
  }
 ],
 "metadata": {
  "kernelspec": {
   "display_name": "Python 3",
   "language": "python",
   "name": "python3"
  },
  "language_info": {
   "codemirror_mode": {
    "name": "ipython",
    "version": 3
   },
   "file_extension": ".py",
   "mimetype": "text/x-python",
   "name": "python",
   "nbconvert_exporter": "python",
   "pygments_lexer": "ipython3",
   "version": "3.12.0"
  }
 },
 "nbformat": 4,
 "nbformat_minor": 2
}
