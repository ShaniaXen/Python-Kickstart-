{
 "cells": [
  {
   "cell_type": "markdown",
   "metadata": {},
   "source": [
    "Dictiionaries are unordered collections of items.They store data in key-value pairs.Keys must be unique and immutable(e.g., strings,numbers or tuples),while values can be of any type."
   ]
  },
  {
   "cell_type": "code",
   "execution_count": 1,
   "metadata": {},
   "outputs": [
    {
     "name": "stdout",
     "output_type": "stream",
     "text": [
      "<class 'dict'>\n"
     ]
    }
   ],
   "source": [
    "## Creating Dictionaries\n",
    "empty_dict = {}\n",
    "print(type(empty_dict))"
   ]
  },
  {
   "cell_type": "code",
   "execution_count": 2,
   "metadata": {},
   "outputs": [
    {
     "data": {
      "text/plain": [
       "{}"
      ]
     },
     "execution_count": 2,
     "metadata": {},
     "output_type": "execute_result"
    }
   ],
   "source": [
    "empty_dict = dict()\n",
    "empty_dict"
   ]
  },
  {
   "cell_type": "code",
   "execution_count": null,
   "metadata": {},
   "outputs": [
    {
     "name": "stdout",
     "output_type": "stream",
     "text": [
      "{'name': 'Shania', 'age': 20, 'grade': 'A'}\n",
      "<class 'dict'>\n"
     ]
    }
   ],
   "source": [
    "student = {\"name\" : \"Shania\" ,\"age\" : 20 , \"grade\" : \"A\"}  # key is unique its cannot b repeted\n",
    "print(student)\n",
    "print(type(student))"
   ]
  },
  {
   "cell_type": "code",
   "execution_count": 5,
   "metadata": {},
   "outputs": [
    {
     "name": "stdout",
     "output_type": "stream",
     "text": [
      "Shania\n"
     ]
    }
   ],
   "source": [
    "## Accessing dictionary elements\n",
    "tudent = {\"name\" : \"Shania\" ,\"age\" : 20 , \"grade\" : \"A\"} \n",
    "print(student[\"name\"])\n"
   ]
  },
  {
   "cell_type": "code",
   "execution_count": 6,
   "metadata": {},
   "outputs": [
    {
     "name": "stdout",
     "output_type": "stream",
     "text": [
      "20\n",
      "A\n"
     ]
    }
   ],
   "source": [
    "print(student[\"age\"])\n",
    "print(student[\"grade\"])"
   ]
  },
  {
   "cell_type": "code",
   "execution_count": 8,
   "metadata": {},
   "outputs": [
    {
     "name": "stdout",
     "output_type": "stream",
     "text": [
      "A\n",
      "Shania\n",
      "None\n",
      "not found\n"
     ]
    }
   ],
   "source": [
    "## Accessing by using get() method\n",
    "print(student.get('grade'))\n",
    "print(student.get('name'))\n",
    "print(student.get('last_name'))  # it will return None\n",
    "print(student.get('last_name', 'not found'))  # it will return not found"
   ]
  },
  {
   "cell_type": "code",
   "execution_count": 4,
   "metadata": {},
   "outputs": [
    {
     "name": "stdout",
     "output_type": "stream",
     "text": [
      "Shania elite\n",
      "{'name': 'Shania elite', 'age': 20, 'grade': 'A'}\n"
     ]
    }
   ],
   "source": [
    "## Modifying dictionary elements\n",
    "## Dictionaries are mutable: we can update,add,remove elements\n",
    "student = {\"name\" : \"Shania\" ,\"age\" : 20 , \"grade\" : \"A\"}\n",
    "student[\"name\"] = \"Shania elite\"\n",
    "print(student[\"name\"])\n",
    "print(student)"
   ]
  },
  {
   "cell_type": "code",
   "execution_count": 5,
   "metadata": {},
   "outputs": [
    {
     "name": "stdout",
     "output_type": "stream",
     "text": [
      "{'name': 'Shania elite', 'age': 20, 'grade': 'A', 'address': 'Hyderbad'}\n"
     ]
    }
   ],
   "source": [
    "student[\"address\"] = \"Hyderbad\"\n",
    "print(student)"
   ]
  },
  {
   "cell_type": "code",
   "execution_count": 6,
   "metadata": {},
   "outputs": [
    {
     "name": "stdout",
     "output_type": "stream",
     "text": [
      "{'name': 'Shania elite', 'age': 20, 'address': 'Hyderbad'}\n"
     ]
    }
   ],
   "source": [
    "del student[\"grade\"] # delete key-value pair\n",
    "print(student)"
   ]
  },
  {
   "cell_type": "code",
   "execution_count": 7,
   "metadata": {},
   "outputs": [
    {
     "name": "stdout",
     "output_type": "stream",
     "text": [
      "dict_keys(['name', 'age', 'address'])\n",
      "dict_values(['Shania elite', 20, 'Hyderbad'])\n"
     ]
    }
   ],
   "source": [
    "## Dictionary Methods\n",
    "## to get all the keys in the dictionary\n",
    "print(student.keys())  # returns a view object that displays a list of all the keys\n",
    "print(student.values())\n"
   ]
  },
  {
   "cell_type": "code",
   "execution_count": 8,
   "metadata": {},
   "outputs": [
    {
     "name": "stdout",
     "output_type": "stream",
     "text": [
      "dict_keys(['name', 'age', 'address'])\n",
      "dict_values(['Shania elite', 20, 'Hyderbad'])\n"
     ]
    }
   ],
   "source": [
    "keys = student.keys()\n",
    "print(keys)\n",
    "values = student.values()\n",
    "print(values)"
   ]
  },
  {
   "cell_type": "code",
   "execution_count": 9,
   "metadata": {},
   "outputs": [
    {
     "name": "stdout",
     "output_type": "stream",
     "text": [
      "dict_items([('name', 'Shania elite'), ('age', 20), ('address', 'Hyderbad')])\n"
     ]
    }
   ],
   "source": [
    "## get all Key-value pairs\n",
    "items = student.items()\n",
    "print(items)  # returns a view object that displays a list of all the key-value pairs\n",
    "## output is list of tuples"
   ]
  },
  {
   "cell_type": "code",
   "execution_count": 10,
   "metadata": {},
   "outputs": [
    {
     "name": "stdout",
     "output_type": "stream",
     "text": [
      "{'name': 'Shania elite', 'age': 20, 'address': 'Hyderbad'}\n",
      "{'name': 'Shania elite', 'age': 20, 'address': 'Hyderbad'}\n"
     ]
    }
   ],
   "source": [
    "## shallow copy\n",
    "student_copy = student\n",
    "print(student)\n",
    "print(student_copy)\n",
    "\n"
   ]
  },
  {
   "cell_type": "code",
   "execution_count": 11,
   "metadata": {},
   "outputs": [
    {
     "name": "stdout",
     "output_type": "stream",
     "text": [
      "{'name': 'ShaniaXEN', 'age': 20, 'address': 'Hyderbad'}\n",
      "{'name': 'ShaniaXEN', 'age': 20, 'address': 'Hyderbad'}\n"
     ]
    }
   ],
   "source": [
    "## Now if we change the original dictionary, the copy will also change\n",
    "student[\"name\"] = \"ShaniaXEN\"\n",
    "print(student)\n",
    "print(student_copy)  # both will change"
   ]
  },
  {
   "cell_type": "code",
   "execution_count": 12,
   "metadata": {},
   "outputs": [
    {
     "name": "stdout",
     "output_type": "stream",
     "text": [
      "{'name': 'ShaniaXEN', 'age': 20, 'address': 'Hyderbad'}\n",
      "{'name': 'ShaniaXEN', 'age': 20, 'address': 'Hyderbad'}\n"
     ]
    }
   ],
   "source": [
    "student_copy1 = student_copy.copy()  # shallow copy: it can't change the original dictionary\n",
    "print(student_copy1)\n",
    "print(student)\n"
   ]
  },
  {
   "cell_type": "code",
   "execution_count": 13,
   "metadata": {},
   "outputs": [
    {
     "name": "stdout",
     "output_type": "stream",
     "text": [
      "{'name': 'ShaniaXEN', 'age': 20, 'address': 'Hyderbad'}\n",
      "{'name': 'Shania Elite', 'age': 20, 'address': 'Hyderbad'}\n",
      "{'name': 'Shania Elite', 'age': 20, 'address': 'Hyderbad'}\n"
     ]
    }
   ],
   "source": [
    "student[\"name\"] = \"Shania Elite\"\n",
    "print(student_copy1)\n",
    "print(student)\n",
    "print(student_copy)"
   ]
  },
  {
   "cell_type": "code",
   "execution_count": 14,
   "metadata": {},
   "outputs": [
    {
     "name": "stdout",
     "output_type": "stream",
     "text": [
      "{1: 'one', 2: 'two', 3: 'three'}\n"
     ]
    }
   ],
   "source": [
    "num = {1: \"one\", 2: \"two\", 3: \"three\"}\n",
    "print(num)"
   ]
  },
  {
   "cell_type": "code",
   "execution_count": 15,
   "metadata": {},
   "outputs": [
    {
     "name": "stdout",
     "output_type": "stream",
     "text": [
      "{1: 'one', 2: 'two', 3: 'three'}\n",
      "{1: 'one', 2: 'two', 3: 'three'}\n"
     ]
    }
   ],
   "source": [
    "# Step 1:\n",
    "num_copy = num\n",
    "print(num_copy)\n",
    "print(num) # No change num_copy is just a reference to num"
   ]
  },
  {
   "cell_type": "code",
   "execution_count": 16,
   "metadata": {},
   "outputs": [
    {
     "name": "stdout",
     "output_type": "stream",
     "text": [
      "{1: 'one', 2: 'two', 3: 'three'}\n",
      "{1: 'one', 2: 'two', 3: 'three'}\n",
      "{1: 'one', 2: 'two', 3: 'three'}\n"
     ]
    }
   ],
   "source": [
    "# Step 2: Shallow copy\n",
    "num_copy1 = num_copy.copy()\n",
    "print(num_copy1)\n",
    "print(num_copy)\n",
    "print(num)\n"
   ]
  },
  {
   "cell_type": "code",
   "execution_count": 17,
   "metadata": {},
   "outputs": [
    {
     "name": "stdout",
     "output_type": "stream",
     "text": [
      "{1: 'Elementary', 2: 'two', 3: 'three'}\n",
      "{1: 'Elementary', 2: 'two', 3: 'three'}\n",
      "{1: 'one', 2: 'two', 3: 'three'}\n"
     ]
    }
   ],
   "source": [
    "num[1] = \"Elementary\"\n",
    "print(num)\n",
    "print(num_copy)\n",
    "print(num_copy1)  # shallow copy: it can't change the original dictionary"
   ]
  },
  {
   "cell_type": "code",
   "execution_count": 18,
   "metadata": {},
   "outputs": [
    {
     "name": "stdout",
     "output_type": "stream",
     "text": [
      "{1: 'Elementary', 2: 'Intermediate', 3: 'three'}\n",
      "{1: 'Elementary', 2: 'Intermediate', 3: 'three'}\n",
      "{1: 'one', 2: 'two', 3: 'three'}\n"
     ]
    }
   ],
   "source": [
    "num_copy[2] = \"Intermediate\"\n",
    "print(num)\n",
    "print(num_copy)\n",
    "print(num_copy1)  # shallow copy: it can't change the original dictionary"
   ]
  },
  {
   "cell_type": "code",
   "execution_count": 19,
   "metadata": {},
   "outputs": [
    {
     "name": "stdout",
     "output_type": "stream",
     "text": [
      "{1: 'Elementary', 2: 'Intermediate', 3: 'three'}\n",
      "{1: 'Elementary', 2: 'Intermediate', 3: 'three'}\n",
      "{1: 'one', 2: 'two', 3: 'Legendary'}\n"
     ]
    }
   ],
   "source": [
    "num_copy1[3] = \"Legendary\"\n",
    "print(num)\n",
    "print(num_copy)\n",
    "print(num_copy1)  # shallow copy: it can't change the original dictionary"
   ]
  },
  {
   "cell_type": "code",
   "execution_count": 56,
   "metadata": {},
   "outputs": [
    {
     "name": "stdout",
     "output_type": "stream",
     "text": [
      "{'name': 'Shania', 'age': 20, 'grade': 'A'}\n",
      "{'name': 'Shania', 'age': 20, 'grade': 'A'}\n"
     ]
    }
   ],
   "source": [
    "student = {\"name\" : \"Shania\" ,\"age\" : 20 , \"grade\" : \"A\"}\n",
    "studeny_copy = student # its just a reference to student\n",
    "print(student)\n",
    "print(studeny_copy)"
   ]
  },
  {
   "cell_type": "code",
   "execution_count": 60,
   "metadata": {},
   "outputs": [
    {
     "name": "stdout",
     "output_type": "stream",
     "text": [
      "{'name': 'Shania', 'age': 20, 'address': 'Hyderbad'}\n",
      "{'name': 'ShaniaXEN', 'age': 20, 'grade': 'A'}\n",
      "{'name': 'Pearl', 'age': 20, 'address': 'Hyderbad'}\n"
     ]
    }
   ],
   "source": [
    "student_copy1 = student_copy.copy()  # shallow copy: it can't change the original dictionary\n",
    "\n",
    "student[\"name\"] = \"ShaniaXEN\"\n",
    "student_copy1[\"name\"] = \"Shania\"\n",
    "student_copy[\"name\"] = \"Pearl\"\n",
    "print(student_copy1) # it can't change the original dictionary\n",
    "print(student)\n",
    "print(student_copy)"
   ]
  },
  {
   "cell_type": "code",
   "execution_count": 61,
   "metadata": {},
   "outputs": [
    {
     "name": "stdout",
     "output_type": "stream",
     "text": [
      "name\n",
      "age\n",
      "grade\n"
     ]
    }
   ],
   "source": [
    "### Iterating through a dictionary\n",
    "## using loops to iterate  over dictionaries,keys,values or items\n",
    "## Iterating over keys\n",
    "\n",
    "for key in student:\n",
    "        print(key)  # it will print all the keys\n"
   ]
  },
  {
   "cell_type": "code",
   "execution_count": 62,
   "metadata": {},
   "outputs": [
    {
     "name": "stdout",
     "output_type": "stream",
     "text": [
      "dict_values(['Pearl', 20, 'Hyderbad'])\n",
      "dict_values(['Pearl', 20, 'Hyderbad'])\n",
      "dict_values(['Pearl', 20, 'Hyderbad'])\n"
     ]
    }
   ],
   "source": [
    "## Iterate over values\n",
    "for value in student.values():\n",
    "    print(values)"
   ]
  },
  {
   "cell_type": "code",
   "execution_count": 66,
   "metadata": {},
   "outputs": [
    {
     "name": "stdout",
     "output_type": "stream",
     "text": [
      "name : ShaniaXEN)\n",
      "age : 20)\n",
      "grade : A)\n"
     ]
    }
   ],
   "source": [
    "## Iterate over key-value pairs\n",
    "for key,value in student.items():\n",
    "    print(f\"{key} : {value})\")"
   ]
  },
  {
   "cell_type": "markdown",
   "metadata": {},
   "source": []
  },
  {
   "cell_type": "code",
   "execution_count": 65,
   "metadata": {},
   "outputs": [
    {
     "name": "stdout",
     "output_type": "stream",
     "text": [
      "dict_keys(['name', 'age', 'grade'])\n",
      "dict_values(['ShaniaXEN', 20, 'A'])\n",
      "dict_items([('name', 'ShaniaXEN'), ('age', 20), ('grade', 'A')])\n"
     ]
    }
   ],
   "source": [
    "keys = student.keys()  # get all the keys\n",
    "print(keys)\n",
    "values = student.values()  # get all the values\n",
    "print(values)\n",
    "items = student.items()  # get all the key-value pairs\n",
    "print(items)"
   ]
  },
  {
   "cell_type": "code",
   "execution_count": 67,
   "metadata": {},
   "outputs": [
    {
     "name": "stdout",
     "output_type": "stream",
     "text": [
      "{'student1': {'name': 'Shania', 'age': 20, 'grade': 'A'}, 'student2': {'name': 'Pearl', 'age': 22, 'grade': 'B'}}\n"
     ]
    }
   ],
   "source": [
    "## Nested Dictionaries\n",
    "## A dictionary can contain another dictionary as a value\n",
    "students = {\n",
    "    \"student1\": {\"name\": \"Shania\",\"age\": 20,\"grade\": \"A\"},\n",
    "    \"student2\": {\"name\": \"Pearl\",\"age\": 22,\"grade\": \"B\"}\n",
    "}\n",
    "print(students)"
   ]
  },
  {
   "cell_type": "code",
   "execution_count": 68,
   "metadata": {},
   "outputs": [
    {
     "name": "stdout",
     "output_type": "stream",
     "text": [
      "Pearl\n",
      "20\n"
     ]
    }
   ],
   "source": [
    "# Access nested dictionaries elements\n",
    "print(students[\"student2\"][\"name\"])  # Accessing nested dictionary\n",
    "print(students[\"student1\"][\"age\"])  # Accessing nested dictionary\n",
    "\n",
    "\n"
   ]
  },
  {
   "cell_type": "code",
   "execution_count": 69,
   "metadata": {},
   "outputs": [
    {
     "name": "stdout",
     "output_type": "stream",
     "text": [
      "student1:{'name': 'Shania', 'age': 20, 'grade': 'A'}\n",
      "name:Shania\n",
      "age:20\n",
      "grade:A\n",
      "student2:{'name': 'Pearl', 'age': 22, 'grade': 'B'}\n",
      "name:Pearl\n",
      "age:22\n",
      "grade:B\n"
     ]
    }
   ],
   "source": [
    "## iterating over nested dictionaries\n",
    "for student_id,student_info in students.items():\n",
    "    print(f\"{student_id}:{student_info}\")\n",
    "    for key,value in student_info.items():\n",
    "        print(f\"{key}:{value}\")"
   ]
  },
  {
   "cell_type": "code",
   "execution_count": null,
   "metadata": {},
   "outputs": [
    {
     "name": "stdout",
     "output_type": "stream",
     "text": [
      "student1:{'name': 'Shania', 'age': 20, 'grade': 'A'}\n",
      "name:Shania\n",
      "age:20\n",
      "grade:A\n",
      "student2:{'name': 'Pearl', 'age': 22, 'grade': 'B'}\n",
      "name:Pearl\n",
      "age:22\n",
      "grade:B\n"
     ]
    }
   ],
   "source": [
    "for a, b in students.items():\n",
    "    print(f\"{a}:{b}\")\n",
    "    for key,value in b.items():  ## .items() gives key-value pairs\n",
    "        print(f\"{key}:{value}\")\n",
    "    ## first written variable addresses keys and \n",
    "    # #second written variable is full details or dictionaries of both the students\n"
   ]
  },
  {
   "cell_type": "code",
   "execution_count": 73,
   "metadata": {},
   "outputs": [
    {
     "name": "stdout",
     "output_type": "stream",
     "text": [
      "{0: 0, 1: 1, 2: 4, 3: 9, 4: 16}\n"
     ]
    }
   ],
   "source": [
    "## Dictionary Comprehension\n",
    "squares = {x:x**2 for x in range(5)}\n",
    "print(squares)  # {0: 0, 1: 1, 2: 4, 3: 9, 4: 16}"
   ]
  },
  {
   "cell_type": "markdown",
   "metadata": {},
   "source": [
    "Dictionary Comprehension:\n",
    "{key_expr: value_expr for item in iterable}"
   ]
  },
  {
   "cell_type": "code",
   "execution_count": null,
   "metadata": {},
   "outputs": [
    {
     "name": "stdout",
     "output_type": "stream",
     "text": [
      "{0: 0, 2: 4, 4: 16, 6: 36, 8: 64}\n"
     ]
    }
   ],
   "source": [
    "## Dictionary with conditions// condition dictionary comprehension\n",
    "even = {x:x**2 for x in range(10) if x%2 == 0}\n",
    "print(even)  # {0: 0, 2: 4, 4: 16, 6: 36, 8: 64}"
   ]
  },
  {
   "cell_type": "code",
   "execution_count": 75,
   "metadata": {},
   "outputs": [
    {
     "name": "stdout",
     "output_type": "stream",
     "text": [
      "{'Shania': 6, 'Pearl': 5, 'XEN': 3}\n"
     ]
    }
   ],
   "source": [
    "names = [\"Shania\", \"Pearl\", \"XEN\"]\n",
    "lengths = {name: len(name) for name in names}\n",
    "print(lengths)  # {'Shania': 6, 'Pearl': 5, 'XEN': 3}"
   ]
  },
  {
   "cell_type": "code",
   "execution_count": 76,
   "metadata": {},
   "outputs": [
    {
     "name": "stdout",
     "output_type": "stream",
     "text": [
      "{'a': 1, 'b': 2, 'c': 3}\n"
     ]
    }
   ],
   "source": [
    "### With zip() function\n",
    "## The zip() function can be used to create a dictionary from two lists\n",
    "keys = [\"a\", \"b\", \"c\"]\n",
    "values = [1, 2, 3]\n",
    "combo = {k:v for k, v in zip(keys, values)}\n",
    "print(combo)\n"
   ]
  },
  {
   "cell_type": "code",
   "execution_count": 79,
   "metadata": {},
   "outputs": [
    {
     "name": "stdout",
     "output_type": "stream",
     "text": [
      "{1: 1, 2: 6, 3: 6, 4: 4}\n"
     ]
    }
   ],
   "source": [
    "### Practical Examples\n",
    "### Use a dictionary to count the frequency of elements in list\n",
    "numbers = [1,2,2,2,2,2,2,3,3,3,4,4,4,4,3,3,3]\n",
    "frequency = {}\n",
    "for number in numbers:\n",
    "    if number in frequency:\n",
    "        frequency[number] += 1\n",
    "    else:\n",
    "        frequency[number] = 1\n",
    "print(frequency)  # {1: 1, 2: 2, 3: 3, 4: 4}\n"
   ]
  },
  {
   "cell_type": "code",
   "execution_count": 80,
   "metadata": {},
   "outputs": [
    {
     "name": "stdout",
     "output_type": "stream",
     "text": [
      "{'Shania': 3, 'Pearl': 2, 'XEN': 1}\n"
     ]
    }
   ],
   "source": [
    "names = [\"Shania\", \"Pearl\", \"XEN\", \"Shania\", \"Pearl\", \"Shania\"]\n",
    "frequency = {}\n",
    "for name in names:\n",
    "    if name in frequency:\n",
    "        frequency[name] += 1\n",
    "    else:\n",
    "        frequency[name] = 1\n",
    "print(frequency)  # {'Shania': 3, 'Pearl': 2, 'XEN': 1}\n"
   ]
  },
  {
   "cell_type": "code",
   "execution_count": 82,
   "metadata": {},
   "outputs": [
    {
     "name": "stdout",
     "output_type": "stream",
     "text": [
      "{'a': 1, 'b': 3, 'c': 4}\n"
     ]
    }
   ],
   "source": [
    "## Merge two dictionaries into one\n",
    "dict1 = {\"a\": 1, \"b\": 2}\n",
    "dict2 = {\"b\": 3, \"c\": 4}\n",
    "merged_dict = {**dict1, **dict2}  # Merge dictionaries merge key-value pairs\n",
    "print(merged_dict)  # {'a': 1, 'b': 3, 'c': 4}  # dict2 value will be taken\n"
   ]
  },
  {
   "cell_type": "code",
   "execution_count": null,
   "metadata": {},
   "outputs": [],
   "source": []
  }
 ],
 "metadata": {
  "kernelspec": {
   "display_name": "Python 3",
   "language": "python",
   "name": "python3"
  },
  "language_info": {
   "codemirror_mode": {
    "name": "ipython",
    "version": 3
   },
   "file_extension": ".py",
   "mimetype": "text/x-python",
   "name": "python",
   "nbconvert_exporter": "python",
   "pygments_lexer": "ipython3",
   "version": "3.12.0"
  }
 },
 "nbformat": 4,
 "nbformat_minor": 2
}
